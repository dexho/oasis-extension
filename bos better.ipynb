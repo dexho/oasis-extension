{
 "cells": [
  {
   "cell_type": "code",
   "execution_count": 22,
   "metadata": {},
   "outputs": [],
   "source": [
    "import requests\n",
    "from requests import get\n",
    "from bs4 import BeautifulSoup\n",
    "import pandas as pd\n",
    "import numpy as np\n",
    "import csv"
   ]
  },
  {
   "cell_type": "code",
   "execution_count": 23,
   "metadata": {},
   "outputs": [],
   "source": [
    "url = \"https://www.huschblackwell.com/california-state-by-state-covid-19-guidance\"\n",
    "headers = {\"Accept-Language\": \"en-US, en;q=0.5\"}\n",
    "results = requests.get(url, headers=headers)"
   ]
  },
  {
   "cell_type": "code",
   "execution_count": 24,
   "metadata": {},
   "outputs": [],
   "source": [
    "html_content = BeautifulSoup(results.text, 'html.parser')"
   ]
  },
  {
   "cell_type": "code",
   "execution_count": 25,
   "metadata": {},
   "outputs": [],
   "source": [
    "info_id = 1\n",
    "official_site = \"CA\"\n",
    "location_id = 1\n"
   ]
  },
  {
   "cell_type": "code",
   "execution_count": 26,
   "metadata": {},
   "outputs": [
    {
     "name": "stdout",
     "output_type": "stream",
     "text": [
      "['Also on Tuesday, Newson issued Executive Order N-71-20, extending the authorization for local governments in California to halt evictions for renters impacted by the pandemic. The current authorization will expire September 30, 2020.']\n",
      "['Also on Tuesday, Newson issued Executive Order N-71-20, extending the authorization for local governments in California to halt evictions for renters impacted by the pandemic. The current authorization will expire September 30, 2020.', 'On Monday, Governor Newsom signed California’s 2020 Budget Act, which authorizes a $202.1 billion spending plan aimed to strengthen both California’s economy and emergency pandemic response efforts. The Act also addresses a $54.3 billion budget shortfall precipitated by the COVID-19 recession. It estimates $5.7 billion in spending towards personal protective equipment, hospital surge preparation, and other expenditures to support populations at greater risk of contracting the virus. Additionally, the Act includes support for local school districts and counties hardest hit by the pandemic, and allocates $4.5 billion and $1.3 billion to school districts and counties, respectively, in order to address the public health impacts of the pandemic.']\n",
      "['Also on Tuesday, Newson issued Executive Order N-71-20, extending the authorization for local governments in California to halt evictions for renters impacted by the pandemic. The current authorization will expire September 30, 2020.', 'On Monday, Governor Newsom signed California’s 2020 Budget Act, which authorizes a $202.1 billion spending plan aimed to strengthen both California’s economy and emergency pandemic response efforts. The Act also addresses a $54.3 billion budget shortfall precipitated by the COVID-19 recession. It estimates $5.7 billion in spending towards personal protective equipment, hospital surge preparation, and other expenditures to support populations at greater risk of contracting the virus. Additionally, the Act includes support for local school districts and counties hardest hit by the pandemic, and allocates $4.5 billion and $1.3 billion to school districts and counties, respectively, in order to address the public health impacts of the pandemic.', 'Governor Newsom declared a budget emergency in order to make additional state funds and resources available for pandemic response efforts. This declaration will allow the state legislature to pass legislation to draw from the State’s rainy-day fund to ensure access to funding for medical equipment, including personal protective equipment.']\n"
     ]
    }
   ],
   "source": [
    "titles=[]\n",
    "for i in range(2,7,2):\n",
    "    title=html_content.find_all('p')[i].get_text()\n",
    "    titles.append(title)\n",
    "    print(titles)\n"
   ]
  },
  {
   "cell_type": "code",
   "execution_count": 27,
   "metadata": {},
   "outputs": [
    {
     "name": "stdout",
     "output_type": "stream",
     "text": [
      "#skip\n",
      "#skip\n",
      "#skip\n"
     ]
    }
   ],
   "source": [
    "for i in range(0,3):\n",
    "    website = html_content.find(attrs={'class': 'sr-only adaSkip'})\n",
    "    website = website['href'].strip()\n",
    "    print(website)\n"
   ]
  },
  {
   "cell_type": "code",
   "execution_count": 28,
   "metadata": {},
   "outputs": [
    {
     "name": "stdout",
     "output_type": "stream",
     "text": [
      "['July 1, 2020:']\n",
      "['July 1, 2020:', 'June 30, 2020:']\n",
      "['July 1, 2020:', 'June 30, 2020:', 'June 29, 2020:']\n"
     ]
    }
   ],
   "source": [
    "dates=[]\n",
    "for i in range(0,3):\n",
    "    date=html_content.find_all('strong')[i].get_text()\n",
    "    dates.append(date)\n",
    "    print(dates)"
   ]
  },
  {
   "cell_type": "code",
   "execution_count": 31,
   "metadata": {},
   "outputs": [],
   "source": [
    "for i in range(0,3):\n",
    "    with open('case2.csv', 'a') as csv_file:\n",
    "        writer = csv.writer(csv_file)\n",
    "        writer.writerow([info_id, official_site, website, location_id, dates[i],titles[i]])\n",
    "\n"
   ]
  },
  {
   "cell_type": "code",
   "execution_count": null,
   "metadata": {},
   "outputs": [],
   "source": []
  },
  {
   "cell_type": "code",
   "execution_count": null,
   "metadata": {},
   "outputs": [],
   "source": []
  },
  {
   "cell_type": "code",
   "execution_count": null,
   "metadata": {},
   "outputs": [],
   "source": []
  },
  {
   "cell_type": "code",
   "execution_count": null,
   "metadata": {},
   "outputs": [],
   "source": []
  }
 ],
 "metadata": {
  "kernelspec": {
   "display_name": "Python 3",
   "language": "python",
   "name": "python3"
  },
  "language_info": {
   "codemirror_mode": {
    "name": "ipython",
    "version": 3
   },
   "file_extension": ".py",
   "mimetype": "text/x-python",
   "name": "python",
   "nbconvert_exporter": "python",
   "pygments_lexer": "ipython3",
   "version": "3.8.3"
  }
 },
 "nbformat": 4,
 "nbformat_minor": 4
}
