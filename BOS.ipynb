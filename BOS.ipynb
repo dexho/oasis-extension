{
 "cells": [
  {
   "cell_type": "code",
   "execution_count": 10,
   "metadata": {},
   "outputs": [],
   "source": [
    "from urllib import request\n",
    "from datetime import datetime\n",
    "from bs4 import BeautifulSoup\n",
    "import csv"
   ]
  },
  {
   "cell_type": "code",
   "execution_count": 11,
   "metadata": {},
   "outputs": [],
   "source": [
    "url = 'https://www.boston.gov/news/coronavirus-disease-covid-19-boston'"
   ]
  },
  {
   "cell_type": "code",
   "execution_count": 12,
   "metadata": {},
   "outputs": [],
   "source": [
    "info_id = 2\n",
    "official_site = \"Boston\"\n",
    "location_id = 1\n"
   ]
  },
  {
   "cell_type": "code",
   "execution_count": 13,
   "metadata": {},
   "outputs": [],
   "source": [
    "req = request.Request(url, headers={'User-Agent': 'Mozilla/5.0'})\n",
    "page = request.urlopen(req).read()\n"
   ]
  },
  {
   "cell_type": "code",
   "execution_count": 14,
   "metadata": {},
   "outputs": [],
   "source": [
    "html_content = BeautifulSoup(page, 'html.parser')"
   ]
  },
  {
   "cell_type": "code",
   "execution_count": 22,
   "metadata": {},
   "outputs": [
    {
     "name": "stdout",
     "output_type": "stream",
     "text": [
      "\n"
     ]
    }
   ],
   "source": [
    "title = html_content.find( 'span',attrs={'bos-media-id':'165902'})\n",
    "title = title.text.strip()\n",
    "print(title)"
   ]
  },
  {
   "cell_type": "code",
   "execution_count": 21,
   "metadata": {},
   "outputs": [
    {
     "name": "stdout",
     "output_type": "stream",
     "text": [
      "https://www.boston.gov/health-and-human-services/covid-19-health-and-testing-information\n"
     ]
    }
   ],
   "source": [
    "website = html_content.find(attrs={'bos-media-id':'165902'},attrs={'class': 'entity entity-paragraphs-item component-section paragraphs-item-transactions lwi g--3 g--3--sl m-t200 m-t500--m'})\n",
    "website = website['href'].strip()\n",
    "print(website)"
   ]
  },
  {
   "cell_type": "code",
   "execution_count": 23,
   "metadata": {},
   "outputs": [
    {
     "name": "stdout",
     "output_type": "stream",
     "text": [
      "June 30, 2020\n"
     ]
    }
   ],
   "source": [
    "date = html_content.find('time')\n",
    "date = date.text.strip()\n",
    "print(date)"
   ]
  },
  {
   "cell_type": "code",
   "execution_count": 24,
   "metadata": {},
   "outputs": [],
   "source": [
    "with open('info.csv', 'a') as csv_file:\n",
    "\twriter = csv.writer(csv_file)\n",
    "\twriter.writerow([info_id, official_site, website, location_id, title, date, datetime.now()])\n"
   ]
  },
  {
   "cell_type": "code",
   "execution_count": null,
   "metadata": {},
   "outputs": [],
   "source": []
  }
 ],
 "metadata": {
  "kernelspec": {
   "display_name": "Python 3",
   "language": "python",
   "name": "python3"
  },
  "language_info": {
   "codemirror_mode": {
    "name": "ipython",
    "version": 3
   },
   "file_extension": ".py",
   "mimetype": "text/x-python",
   "name": "python",
   "nbconvert_exporter": "python",
   "pygments_lexer": "ipython3",
   "version": "3.8.3"
  }
 },
 "nbformat": 4,
 "nbformat_minor": 4
}
